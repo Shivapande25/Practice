{
 "cells": [
  {
   "cell_type": "markdown",
   "id": "a57648c8",
   "metadata": {},
   "source": [
    "###  Knwolege Test"
   ]
  },
  {
   "cell_type": "markdown",
   "id": "e55c397a",
   "metadata": {},
   "source": [
    "\n",
    "#Q1. Write a function to print the fibonaaci series\n",
    "n = input('Enter the number of terms')\n",
    "def fibo(n):\n",
    "    if n <= 1:\n",
    "        return n\n",
    "    else:\n",
    "        return(fibo(n-1) + fibo(n-2))\n",
    "\n",
    "for i in range(int(n)):\n",
    "    print(fibo(i), end=' ')"
   ]
  },
  {
   "cell_type": "markdown",
   "id": "670d3484",
   "metadata": {},
   "source": [
    "##### Q2. What are Armstrong numbers? Write a function if a number is Armstrong number of not\n",
    "The Armstrong number in python is the number whose sum of each digit powered with the total number of digits is the same as the given number."
   ]
  },
  {
   "cell_type": "code",
   "execution_count": 8,
   "id": "8d21bf6e",
   "metadata": {},
   "outputs": [
    {
     "name": "stdout",
     "output_type": "stream",
     "text": [
      "Enter a number: 153\n",
      "153 is an Armstrong number\n"
     ]
    }
   ],
   "source": [
    "num = int(input(\"Enter a number: \"))\n",
    "sum = 0\n",
    "temp = num\n",
    "while temp > 0:\n",
    "    digit = temp % 10\n",
    "    sum += digit ** 3\n",
    "    temp //= 10\n",
    "if num == sum:\n",
    "    print(num,\"is an Armstrong number\")\n",
    "else:\n",
    "    print(num,\"is not an Armstrong number\")"
   ]
  },
  {
   "cell_type": "markdown",
   "id": "3a666be8",
   "metadata": {},
   "source": [
    "#### Q3. Difference between list and tuple support your answer with coding example.\n"
   ]
  },
  {
   "cell_type": "markdown",
   "id": "d343662d",
   "metadata": {},
   "source": [
    "The differences between list and tuple is that list is mutable, whereas a tuple is immutable."
   ]
  },
  {
   "cell_type": "code",
   "execution_count": 12,
   "id": "e5864c0b",
   "metadata": {},
   "outputs": [
    {
     "name": "stdout",
     "output_type": "stream",
     "text": [
      "print item is assigned\n",
      "[7, 2, 9, 1]\n"
     ]
    },
    {
     "ename": "TypeError",
     "evalue": "'tuple' object does not support item assignment",
     "output_type": "error",
     "traceback": [
      "\u001b[1;31m---------------------------------------------------------------------------\u001b[0m",
      "\u001b[1;31mTypeError\u001b[0m                                 Traceback (most recent call last)",
      "\u001b[1;32mC:\\Users\\SHARDU~1\\AppData\\Local\\Temp/ipykernel_15852/1118842238.py\u001b[0m in \u001b[0;36m<module>\u001b[1;34m\u001b[0m\n\u001b[0;32m      5\u001b[0m \u001b[1;33m\u001b[0m\u001b[0m\n\u001b[0;32m      6\u001b[0m \u001b[0mtup\u001b[0m\u001b[1;33m=\u001b[0m\u001b[1;33m(\u001b[0m\u001b[1;36m7\u001b[0m\u001b[1;33m,\u001b[0m\u001b[1;36m8\u001b[0m\u001b[1;33m,\u001b[0m\u001b[1;36m9\u001b[0m\u001b[1;33m,\u001b[0m\u001b[1;36m1\u001b[0m\u001b[1;33m)\u001b[0m\u001b[1;33m\u001b[0m\u001b[1;33m\u001b[0m\u001b[0m\n\u001b[1;32m----> 7\u001b[1;33m \u001b[0mtup\u001b[0m\u001b[1;33m[\u001b[0m\u001b[1;36m1\u001b[0m\u001b[1;33m]\u001b[0m\u001b[1;33m=\u001b[0m\u001b[1;36m2\u001b[0m\u001b[1;33m\u001b[0m\u001b[1;33m\u001b[0m\u001b[0m\n\u001b[0m",
      "\u001b[1;31mTypeError\u001b[0m: 'tuple' object does not support item assignment"
     ]
    }
   ],
   "source": [
    "list=[7,8,9,1]\n",
    "list[1]=2\n",
    "print('print item is assigned')\n",
    "print(list)\n",
    "\n",
    "tup=(7,8,9,1)\n",
    "tup[1]=2"
   ]
  },
  {
   "cell_type": "markdown",
   "id": "b7850e79",
   "metadata": {},
   "source": [
    "##### Q4. What is python doc String"
   ]
  },
  {
   "cell_type": "markdown",
   "id": "276b65b8",
   "metadata": {},
   "source": [
    "A Python docstring is a string used to document a Python module, class, function or method, so programmers can understand what it does without having to read the details of the implementation."
   ]
  },
  {
   "cell_type": "markdown",
   "id": "046b17ba",
   "metadata": {},
   "source": [
    "### Research Test"
   ]
  },
  {
   "cell_type": "markdown",
   "id": "ae7cee44",
   "metadata": {},
   "source": [
    "#### Q1. What is PEP 8"
   ]
  },
  {
   "cell_type": "markdown",
   "id": "5670d240",
   "metadata": {},
   "source": [
    "PEP 8, sometimes spelled PEP8 or PEP-8, is a document that provides guidelines and best practices on how to write Python code. It was written in 2001 by Guido van Rossum, Barry Warsaw, and Nick Coghlan. The primary focus of PEP 8 is to improve the readability and consistency of Python code.PEP stands for Python Enhancement Proposal, and there are several of them. A PEP is a document that describes new features proposed for Python and documents aspects of Python, like design and style, for the community."
   ]
  },
  {
   "cell_type": "markdown",
   "id": "61d8dca1",
   "metadata": {},
   "source": [
    "#### Q2. difference between range and xrange\n"
   ]
  },
  {
   "cell_type": "markdown",
   "id": "678538c4",
   "metadata": {},
   "source": [
    "The range() and xrange() are two functions that could be used to iterate a certain number of times in for loops in Python.\n",
    "range() – This returns a range object (a type of iterable).\n",
    "xrange() – This function returns the generator object that can be used to display numbers only by looping. The only particular range is displayed on demand and hence called “lazy evaluation“.\n"
   ]
  },
  {
   "cell_type": "markdown",
   "id": "2066c853",
   "metadata": {},
   "source": [
    "#### Q3. What are global and local varibales support your answer with coding"
   ]
  },
  {
   "cell_type": "markdown",
   "id": "297c590e",
   "metadata": {},
   "source": [
    "Global variables are those which are not defined inside any function and have a global scope whereas local variables are those which are defined inside a function and its scope is limited to that function only. In other words, we can say that local variables are accessible only inside the function in which it was initialized whereas the global variables are accessible throughout the program and inside every function. "
   ]
  },
  {
   "cell_type": "code",
   "execution_count": 20,
   "id": "dab61683",
   "metadata": {},
   "outputs": [
    {
     "name": "stdout",
     "output_type": "stream",
     "text": [
      "I love coding\n",
      "Inside Function: I love coding\n"
     ]
    },
    {
     "ename": "NameError",
     "evalue": "name 's' is not defined",
     "output_type": "error",
     "traceback": [
      "\u001b[1;31m---------------------------------------------------------------------------\u001b[0m",
      "\u001b[1;31mNameError\u001b[0m                                 Traceback (most recent call last)",
      "\u001b[1;32mC:\\Users\\SHARDU~1\\AppData\\Local\\Temp/ipykernel_15852/2391594090.py\u001b[0m in \u001b[0;36m<module>\u001b[1;34m\u001b[0m\n\u001b[0;32m     17\u001b[0m \u001b[1;33m\u001b[0m\u001b[0m\n\u001b[0;32m     18\u001b[0m \u001b[0mf\u001b[0m\u001b[1;33m(\u001b[0m\u001b[1;33m)\u001b[0m\u001b[1;33m\u001b[0m\u001b[1;33m\u001b[0m\u001b[0m\n\u001b[1;32m---> 19\u001b[1;33m \u001b[0mprint\u001b[0m\u001b[1;33m(\u001b[0m\u001b[0ms\u001b[0m\u001b[1;33m)\u001b[0m\u001b[1;33m\u001b[0m\u001b[1;33m\u001b[0m\u001b[0m\n\u001b[0m",
      "\u001b[1;31mNameError\u001b[0m: name 's' is not defined"
     ]
    }
   ],
   "source": [
    "#Declaring local variable\n",
    "#1\n",
    "def f():\n",
    "     \n",
    "    \n",
    "    s = \"I love coding\"\n",
    "    print(s)\n",
    " \n",
    "\n",
    "f()\n",
    "\n",
    "#2\n",
    "def f():\n",
    "     \n",
    "    s = \"I love coding\"\n",
    "    print(\"Inside Function:\", s)\n",
    " \n",
    "f()\n",
    "print(s)"
   ]
  },
  {
   "cell_type": "code",
   "execution_count": 26,
   "id": "c0821c43",
   "metadata": {},
   "outputs": [
    {
     "name": "stdout",
     "output_type": "stream",
     "text": [
      "Inside Function: I love coding\n",
      "Outside Function: I love coding\n"
     ]
    }
   ],
   "source": [
    "#Declaring global variable\n",
    "def f():\n",
    "    print(\"Inside Function:\", s)\n",
    "\n",
    "    \n",
    "s = \"I love coding\"\n",
    "f()\n",
    "print(\"Outside Function:\", s)"
   ]
  },
  {
   "cell_type": "code",
   "execution_count": 27,
   "id": "45748110",
   "metadata": {},
   "outputs": [
    {
     "name": "stdout",
     "output_type": "stream",
     "text": [
      "I love Java\n",
      "I love coding\n"
     ]
    }
   ],
   "source": [
    "def f():\n",
    "    s = \"I love Java\"\n",
    "    print(s)\n",
    " \n",
    "\n",
    "s = \"I love coding\"\n",
    "f()\n",
    "print(s)"
   ]
  },
  {
   "cell_type": "markdown",
   "id": "b9c99957",
   "metadata": {},
   "source": [
    "#### Q4. Difference between python 2 and python 3"
   ]
  },
  {
   "cell_type": "markdown",
   "id": "76d5c3c2",
   "metadata": {},
   "source": [
    "\n",
    "In Python 2, strings are stored as ASCII by default.\n",
    "In Python 3, strings are stored as UNICODE by default.\n",
    "\n",
    "\n",
    "In Python 2, exceptions are enclosed in notations.\n",
    "In Python 3, exceptions are enclosed in parentheses.\n",
    "\n",
    "\n",
    "The values of global variables do change in Python 2 if they are used inside a for-loop.\n",
    "The value of variables never changes in Python 3.\n",
    "\n",
    "\n",
    "In Python 2, the xrange() function has been defined for iterations.\n",
    "In Python 3, the new Range() function was introduced to perform iterations.\n",
    "\n",
    "\n",
    "A lot of libraries of Python 2 are not forward compatible.\n",
    "A lot of libraries are created in Python 3 to be strictly used with Python 3.\n",
    "\n"
   ]
  },
  {
   "cell_type": "markdown",
   "id": "121733cf",
   "metadata": {},
   "source": [
    "#### Q5. What are mirrored palindrome? Write a program to check if a string is mirrored palindrome or not?\n"
   ]
  },
  {
   "cell_type": "markdown",
   "id": "ef6d2e59",
   "metadata": {},
   "source": [
    "The mirror palindromes are those palindromes which are graphically reversible"
   ]
  },
  {
   "cell_type": "code",
   "execution_count": 1,
   "id": "3366d2ba",
   "metadata": {},
   "outputs": [
    {
     "name": "stdout",
     "output_type": "stream",
     "text": [
      "mirorred palindrome\n",
      "mirorred palindrome\n",
      "mirorred palindrome\n"
     ]
    }
   ],
   "source": [
    "def mirror_palindrome(x):\n",
    "    if x==x[::-1]:\n",
    "        print('mirorred palindrome')\n",
    "    else:\n",
    "        print('not mirrored palindrome')\n",
    "mirror_palindrome('wow') \n",
    "mirror_palindrome('civic')\n",
    "mirror_palindrome('refer')\n",
    "    \n"
   ]
  },
  {
   "cell_type": "code",
   "execution_count": null,
   "id": "dfb0a0bd",
   "metadata": {},
   "outputs": [],
   "source": []
  }
 ],
 "metadata": {
  "kernelspec": {
   "display_name": "Python 3 (ipykernel)",
   "language": "python",
   "name": "python3"
  },
  "language_info": {
   "codemirror_mode": {
    "name": "ipython",
    "version": 3
   },
   "file_extension": ".py",
   "mimetype": "text/x-python",
   "name": "python",
   "nbconvert_exporter": "python",
   "pygments_lexer": "ipython3",
   "version": "3.9.7"
  }
 },
 "nbformat": 4,
 "nbformat_minor": 5
}
